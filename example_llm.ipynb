{
 "cells": [
  {
   "cell_type": "code",
   "execution_count": 1,
   "id": "42557993-d6a8-41ba-8500-7c0830591fd0",
   "metadata": {},
   "outputs": [],
   "source": [
    "from openai import OpenAI"
   ]
  },
  {
   "cell_type": "code",
   "execution_count": 2,
   "id": "b4a88e43-5e51-4b80-970e-cd51c02e1d42",
   "metadata": {},
   "outputs": [],
   "source": [
    "### Swap out the base_url and use an api key generated from the website\n",
    "\n",
    "client = OpenAI(base_url='https://api.blockentropy.ai/v1',api_key='<BE API_KEY>')"
   ]
  },
  {
   "cell_type": "markdown",
   "id": "0e7fd767-9b6c-4dae-8bb1-4bc7172a3136",
   "metadata": {},
   "source": [
    "# Basic Chat Completion"
   ]
  },
  {
   "cell_type": "code",
   "execution_count": 11,
   "id": "e1b711e2-91c4-48d4-9631-df03c7afd618",
   "metadata": {},
   "outputs": [
    {
     "name": "stdout",
     "output_type": "stream",
     "text": [
      "Hi there! How can I help you today?\n"
     ]
    }
   ],
   "source": [
    "completion = client.chat.completions.create(\n",
    "  model=\"be-3.5-turbo\",\n",
    "  messages=[\n",
    "    {\"role\": \"system\", \"content\": \"You are a helpful assistant.\"},\n",
    "    {\"role\": \"user\", \"content\": \"Hello!\"}\n",
    "  ]\n",
    ")\n",
    "print(completion.choices[0].message.content)"
   ]
  },
  {
   "cell_type": "markdown",
   "id": "15318b6d-dd2e-462c-bb4e-74f474b5882a",
   "metadata": {},
   "source": [
    "# Chat Completion with Streaming"
   ]
  },
  {
   "cell_type": "code",
   "execution_count": 24,
   "id": "37fa9e17-a91e-47a8-9fe9-eb3a34b6fd7e",
   "metadata": {},
   "outputs": [
    {
     "name": "stdout",
     "output_type": "stream",
     "text": [
      "\n",
      "Hi there! How can I help you today?"
     ]
    }
   ],
   "source": [
    "completion = client.chat.completions.create(\n",
    "  model=\"be-3.5-turbo\",\n",
    "  messages=[\n",
    "    {\"role\": \"system\", \"content\": \"You are a helpful assistant.\"},\n",
    "    {\"role\": \"user\", \"content\": \"Hello!\"}\n",
    "  ],\n",
    "  stream = True\n",
    ")\n",
    "for chunk in completion:\n",
    "  print(chunk.choices[0].delta.content,  end='')"
   ]
  },
  {
   "cell_type": "markdown",
   "id": "55028587-6a1d-4e77-b6db-1ca348962988",
   "metadata": {},
   "source": [
    "# Using Different Models"
   ]
  },
  {
   "cell_type": "code",
   "execution_count": 16,
   "id": "f25503e2-f720-4961-9d96-d363e2fdbcbd",
   "metadata": {},
   "outputs": [],
   "source": [
    "### Base model, gpt 3.5 quality, fast and cost efficient\n",
    "model=\"be-3.5-turbo\" \n",
    "\n",
    "### High quality model, gpt 4 quality\n",
    "model=\"be-4-turbo\"\n",
    "\n",
    "### Unfiltered model, finetuned \n",
    "model=\"be-roleplay\"\n",
    "\n",
    "### Blockchain sourced models\n",
    "model=\"be-blockchain=Genz-70b-GPTQ\""
   ]
  },
  {
   "cell_type": "markdown",
   "id": "3c78ae08-af4f-4a80-a37b-5fe30d32265d",
   "metadata": {},
   "source": [
    "# Example using a Blockchain model"
   ]
  },
  {
   "cell_type": "code",
   "execution_count": 23,
   "id": "b57dbafd-0af3-4d69-aa7d-4720073075c3",
   "metadata": {},
   "outputs": [
    {
     "name": "stdout",
     "output_type": "stream",
     "text": [
      "Hello! How can I help you?"
     ]
    }
   ],
   "source": [
    "completion = client.chat.completions.create(\n",
    "  model=\"be-blockchain=Genz-70b-GPTQ\",\n",
    "  messages=[\n",
    "    {\"role\": \"system\", \"content\": \"You are a helpful assistant.\"},\n",
    "    {\"role\": \"user\", \"content\": \"Hello!\"}\n",
    "  ],\n",
    "  stream = True\n",
    ")\n",
    "for chunk in completion:\n",
    "  print(chunk.choices[0].delta.content,  end='')"
   ]
  },
  {
   "cell_type": "code",
   "execution_count": null,
   "id": "3be1479c-ae88-4f40-bfe6-fa5fb79380fb",
   "metadata": {},
   "outputs": [],
   "source": []
  }
 ],
 "metadata": {
  "kernelspec": {
   "display_name": "Python 3 (ipykernel)",
   "language": "python",
   "name": "python3"
  },
  "language_info": {
   "codemirror_mode": {
    "name": "ipython",
    "version": 3
   },
   "file_extension": ".py",
   "mimetype": "text/x-python",
   "name": "python",
   "nbconvert_exporter": "python",
   "pygments_lexer": "ipython3",
   "version": "3.9.6"
  }
 },
 "nbformat": 4,
 "nbformat_minor": 5
}
